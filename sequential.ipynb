{
 "cells": [
  {
   "cell_type": "code",
   "execution_count": 1,
   "id": "25c86a5c",
   "metadata": {},
   "outputs": [
    {
     "name": "stdout",
     "output_type": "stream",
     "text": [
      "hi\n"
     ]
    }
   ],
   "source": [
    "print(\"hi\")"
   ]
  },
  {
   "cell_type": "code",
   "execution_count": 24,
   "id": "877a8de7",
   "metadata": {},
   "outputs": [],
   "source": [
    "from langgraph.graph import StateGraph, START, END\n"
   ]
  },
  {
   "cell_type": "code",
   "execution_count": 12,
   "id": "4c8e92fd",
   "metadata": {},
   "outputs": [],
   "source": [
    "from typing import TypedDict\n"
   ]
  },
  {
   "cell_type": "code",
   "execution_count": null,
   "id": "b457d0c5",
   "metadata": {},
   "outputs": [],
   "source": [
    "class BMIstate(TypedDict):\n",
    "    weight_kg:float\n",
    "    height_m:float\n",
    "    category:str\n",
    "    bmi:float"
   ]
  },
  {
   "cell_type": "code",
   "execution_count": 47,
   "id": "d40e0b99",
   "metadata": {},
   "outputs": [],
   "source": [
    "def calculate_bmi(state: BMIstate)->BMIstate:\n",
    "    weight=state['weight_kg']\n",
    "    height=state['height_m']\n",
    "    bmi=weight/(height**2)\n",
    "    state['bmi']=round(bmi,2)\n",
    "    return state"
   ]
  },
  {
   "cell_type": "code",
   "execution_count": 48,
   "id": "42b3b337",
   "metadata": {},
   "outputs": [],
   "source": [
    "def label_bmi(state:BMIstate)->BMIstate:\n",
    "    bmi=state['bmi']\n",
    "    if bmi<18.5:\n",
    "        state['category']=\"underweight\"\n",
    "    elif 18.5<bmi<25:\n",
    "        state['category']=\"normal\"\n",
    "    elif 25<bmi<30:\n",
    "        state['category']=\"fat\"\n",
    "    else:\n",
    "        state[\"category\"]=\"overweight\"\n",
    "    return state"
   ]
  },
  {
   "cell_type": "code",
   "execution_count": 49,
   "id": "3fc580ec",
   "metadata": {},
   "outputs": [
    {
     "data": {
      "text/plain": [
       "<langgraph.graph.state.StateGraph at 0x2552f670e50>"
      ]
     },
     "execution_count": 49,
     "metadata": {},
     "output_type": "execute_result"
    }
   ],
   "source": [
    "graph=StateGraph(BMIstate)\n",
    "graph.add_node(\"calculate bmi\",calculate_bmi)\n",
    "graph.add_node(\"label_bmi\",label_bmi)\n",
    "graph.add_edge(START,\"calculate bmi\")\n",
    "graph.add_edge(\"calculate bmi\",\"label_bmi\")\n",
    "graph.add_edge(\"label_bmi\",END)"
   ]
  },
  {
   "cell_type": "code",
   "execution_count": 50,
   "id": "34383837",
   "metadata": {},
   "outputs": [],
   "source": [
    "workflow = graph.compile()\n"
   ]
  },
  {
   "cell_type": "code",
   "execution_count": 51,
   "id": "2d289337",
   "metadata": {},
   "outputs": [
    {
     "data": {
      "image/png": "[encoded data removed]",
      "text/plain": [
       "<IPython.core.display.Image object>"
      ]
     },
     "execution_count": 51,
     "metadata": {},
     "output_type": "execute_result"
    }
   ],
   "source": [
    "from IPython.display import Image\n",
    "Image(workflow.get_graph().draw_mermaid_png())"
   ]
  },
  {
   "cell_type": "code",
   "execution_count": 52,
   "id": "35a93f9f",
   "metadata": {},
   "outputs": [
    {
     "name": "stdout",
     "output_type": "stream",
     "text": [
      "{'weight_kg': 78, 'height_m': 1.55, 'category': 'overweight', 'bmi': 32.47}\n"
     ]
    }
   ],
   "source": [
    "initial_state={\"weight_kg\":78,\"height_m\":1.55}\n",
    "final=workflow.invoke(initial_state)\n",
    "print(final)"
   ]
  },
  {
   "cell_type": "code",
   "execution_count": null,
   "id": "9756d29a",
   "metadata": {},
   "outputs": [],
   "source": []
  },
  {
   "cell_type": "code",
   "execution_count": null,
   "id": "3601906e",
   "metadata": {},
   "outputs": [],
   "source": []
  },
  {
   "cell_type": "code",
   "execution_count": null,
   "id": "20bc3b7c",
   "metadata": {},
   "outputs": [],
   "source": []
  }
 ],
 "metadata": {
  "kernelspec": {
   "display_name": "myenv",
   "language": "python",
   "name": "python3"
  },
  "language_info": {
   "codemirror_mode": {
    "name": "ipython",
    "version": 3
   },
   "file_extension": ".py",
   "mimetype": "text/x-python",
   "name": "python",
   "nbconvert_exporter": "python",
   "pygments_lexer": "ipython3",
   "version": "3.11.9"
  }
 },
 "nbformat": 4,
 "nbformat_minor": 5
}
