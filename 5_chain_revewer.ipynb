{
 "cells": [
  {
   "cell_type": "code",
   "execution_count": 10,
   "id": "db986ee3",
   "metadata": {},
   "outputs": [
    {
     "data": {
      "text/plain": [
       "True"
      ]
     },
     "execution_count": 10,
     "metadata": {},
     "output_type": "execute_result"
    }
   ],
   "source": [
    "from langgraph.graph import StateGraph,START,END\n",
    "from typing import TypedDict\n",
    "from langchain.prompts import PromptTemplate\n",
    "from langchain_openai import ChatOpenAI\n",
    "from dotenv import load_dotenv\n",
    "load_dotenv()\n"
   ]
  },
  {
   "cell_type": "code",
   "execution_count": 11,
   "id": "4dec7bfe",
   "metadata": {},
   "outputs": [],
   "source": [
    "class Reviewer(TypedDict):\n",
    "    review: str\n",
    "    sentiment: str\n",
    "    analyzer:str\n",
    "    positive_response:str\n",
    "    negative_response:str"
   ]
  },
  {
   "cell_type": "code",
   "execution_count": 12,
   "id": "817e259e",
   "metadata": {},
   "outputs": [],
   "source": [
    "model=ChatOpenAI()"
   ]
  },
  {
   "cell_type": "code",
   "execution_count": 13,
   "id": "1fca7d05",
   "metadata": {},
   "outputs": [],
   "source": [
    "def review_content(state:Reviewer)->Reviewer:\n",
    "    review_text=input(\"Enter the review text:\")\n",
    "    state['review']=review_text\n",
    "    return {\"review\":review_text}\n",
    "    "
   ]
  },
  {
   "cell_type": "code",
   "execution_count": 14,
   "id": "0e884e99",
   "metadata": {},
   "outputs": [],
   "source": [
    "def find_sentiment(state:Reviewer)->Reviewer:\n",
    "    prompt=f\"\"\"i am providing you a review text {state['review']} from customer for our product please analyze the review and provide the sentiment of the review\"\"\"\n",
    "    senti_result=model.invoke(prompt).content\n",
    "    state['sentiment']=senti_result\n",
    "    return {\"sentiment\":senti_result}"
   ]
  },
  {
   "cell_type": "code",
   "execution_count": 15,
   "id": "b5f03039",
   "metadata": {},
   "outputs": [],
   "source": [
    "def analyze_sentiment(state:Reviewer)->Reviewer:\n",
    "    prompt=f\"\"\"i am providing you a review text {state['review']} from customer for our product please analyze the review of the product based on this \n",
    "    three aspects. first is Tone of the review, second is the urgency of the sentiment and third is the topic  of the sentiment\"\"\"\n",
    "    analyzer_result=model.invoke(prompt).content\n",
    "    state['analyzer']=analyzer_result\n",
    "    return {\"analyzer\":analyzer_result}"
   ]
  },
  {
   "cell_type": "code",
   "execution_count": 16,
   "id": "de240a4b",
   "metadata": {},
   "outputs": [],
   "source": [
    "def positive_response(state:Reviewer)->Reviewer:\n",
    "    prompt=f\"\"\"i am providing you a sentiment analysis of a review {state['sentiment']} please provide a warm thankyou message for  positive review {state['review']} to this review to our customer for providing a good review\"\"\"\n",
    "    positive_response_result=model.invoke(prompt).content\n",
    "    state['positive_response']=positive_response_result\n",
    "    return {\"positive_response\":positive_response_result}\n",
    "    "
   ]
  },
  {
   "cell_type": "code",
   "execution_count": 17,
   "id": "8b1a771d",
   "metadata": {},
   "outputs": [],
   "source": [
    "def negative_response(state:Reviewer)->Reviewer:\n",
    "    prompt=f\"\"\"i am providing you a sentiment analysis of a review {state['analyzer']} please provide response to this review to our customer for providing a bad review based on the analyzis {state['analyzer']}\"\"\"\n",
    "    negative_response_result=model.invoke(prompt).content\n",
    "    state['negative_response']=negative_response_result\n",
    "    return {\"negative_response\":negative_response_result}"
   ]
  },
  {
   "cell_type": "code",
   "execution_count": 18,
   "id": "95dcd196",
   "metadata": {},
   "outputs": [],
   "source": [
    "from typing import Literal\n",
    "\n",
    "\n",
    "def check_condition(state:Reviewer)->Literal['positive_response','analyzer']:\n",
    "    sent = str(state.get('sentiment', '')).lower()\n",
    "    if 'positive' in sent:\n",
    "        return 'positive_response'\n",
    "    else:\n",
    "        return 'analyzer'"
   ]
  },
  {
   "cell_type": "code",
   "execution_count": 19,
   "id": "1e772cb4",
   "metadata": {},
   "outputs": [],
   "source": [
    "#define state\n",
    "graph=StateGraph(Reviewer)\n",
    "#add node\n",
    "graph.add_node(\"review\",review_content)\n",
    "graph.add_node(\"sentiment\",find_sentiment)\n",
    "graph.add_node(\"analyzer\",analyze_sentiment)\n",
    "graph.add_node(\"positive_response\",positive_response)\n",
    "graph.add_node(\"negative_response\",negative_response)\n",
    "#add edge\n",
    "graph.add_edge(START,\"review\")\n",
    "graph.add_edge(\"review\",\"sentiment\")\n",
    "graph.add_conditional_edges(\"sentiment\",check_condition)\n",
    "graph.add_edge(\"positive_response\",END)\n",
    "graph.add_edge(\"analyzer\",\"negative_response\")\n",
    "graph.add_edge(\"negative_response\",END)\n",
    "#compile\n",
    "workflow=graph.compile()"
   ]
  },
  {
   "cell_type": "code",
   "execution_count": 20,
   "id": "99fc6071",
   "metadata": {},
   "outputs": [],
   "source": [
    "initial_state={}"
   ]
  },
  {
   "cell_type": "code",
   "execution_count": 21,
   "id": "4dda3f9b",
   "metadata": {},
   "outputs": [
    {
     "name": "stdout",
     "output_type": "stream",
     "text": [
      "We apologize for the disappointment you have experienced with our product. We take customer feedback very seriously and are committed to ensuring that our products meet the highest quality standards. \n",
      "\n",
      "We would like to make things right for you and address the issues you have encountered. Please reach out to our customer service team so that we can assist you with a solution, replacement, or refund for the defective product. Your satisfaction is our top priority and we want to ensure that you have a positive experience with our brand.\n",
      "\n",
      "Once again, we apologize for any inconvenience this may have caused and thank you for bringing these issues to our attention. We value your feedback and will take it into consideration as we continue to improve our products and services.\n"
     ]
    }
   ],
   "source": [
    "final_state=workflow.invoke(initial_state)\n",
    "if 'negative_response' in final_state:\n",
    "    print(final_state['negative_response'])\n",
    "else:\n",
    "    print(final_state.get('positive_response'))"
   ]
  },
  {
   "cell_type": "code",
   "execution_count": 22,
   "id": "82998390",
   "metadata": {},
   "outputs": [],
   "source": [
    "# from IPython.display import Image\n",
    "# Image(workflow.get_graph().draw_mermaid_png())"
   ]
  },
  {
   "cell_type": "code",
   "execution_count": null,
   "id": "ad061561",
   "metadata": {},
   "outputs": [],
   "source": []
  },
  {
   "cell_type": "code",
   "execution_count": null,
   "id": "8916a59f",
   "metadata": {},
   "outputs": [],
   "source": []
  }
 ],
 "metadata": {
  "kernelspec": {
   "display_name": "myenv",
   "language": "python",
   "name": "python3"
  },
  "language_info": {
   "codemirror_mode": {
    "name": "ipython",
    "version": 3
   },
   "file_extension": ".py",
   "mimetype": "text/x-python",
   "name": "python",
   "nbconvert_exporter": "python",
   "pygments_lexer": "ipython3",
   "version": "3.12.11"
  }
 },
 "nbformat": 4,
 "nbformat_minor": 5
}
