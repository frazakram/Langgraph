{
 "cells": [
  {
   "cell_type": "code",
   "execution_count": 2,
   "id": "606e7745",
   "metadata": {},
   "outputs": [
    {
     "name": "stdout",
     "output_type": "stream",
     "text": [
      "User hi my name is fraz\n",
      "AI message Hi Fraz! How can I assist you today?\n",
      "User can you write a poem on beutiful girl in ahmed faraz style in urdu\n",
      "AI message Certainly! Here’s a poem inspired by the style of Ahmed Faraz, focusing on the theme of a beautiful girl:\n",
      "\n",
      "---\n",
      "\n",
      "تُو کیا ہے، ایک خواب کی تعبیر ہو جیسے  \n",
      "چاند کی چمک، ستاروں کی تصویر ہو جیسے  \n",
      "\n",
      "تیری آنکھوں میں مہکتا ہے سبزہ زار  \n",
      "تیرے ہونٹوں پہ چپکے ہیں سرخ پھولوں کے چنار  \n",
      "\n",
      "تیری مسکراہٹ سے بکھرتا ہے عشق کا نور  \n",
      "تُو ایک بہار کی خوشبو، ایک سوغاتِ سرور  \n",
      "\n",
      "ہوا کے نرم جھونکوں میں تری خوشبو بکھیری  \n",
      "تُو چلی آ، کہ میری دنیا ہے خالی، ویران، تیری  \n",
      "\n",
      "آئی ہے ہر طرف تیری ہی باتیں، داستانیں  \n",
      "کسی شاعر نے چھیڑی ہے تیرے حسن کی گیتیں  \n",
      "\n",
      "تجھ سے مل کر میری ہر گھڑی رنگ بھرتی ہے  \n",
      "تُو جتنی خوبصورت ہے، اتنی ہی خوشگوار بھی ہے  \n",
      "\n",
      "---\n",
      "\n",
      "امید ہے کہ آپ کو یہ پسند آئے گا!\n",
      "User can you also provide me roman text of poem in english\n",
      "AI message Of course! Here’s the poem in Roman Urdu:\n",
      "\n",
      "---\n",
      "\n",
      "Tu kya hai, aik khwab ki taabeer ho jaise  \n",
      "Chaand ki chamak, sitaron ki tasveer ho jaise  \n",
      "\n",
      "Teri aankhon mein mehakta hai sabza zaar  \n",
      "Tere honton par chupke hain surkh phoolon ke chinar  \n",
      "\n",
      "Teri muskurahat se bikharhta hai ishq ka noor  \n",
      "Tu aik bahar ki khushboo, aik sogat-e-surur  \n",
      "\n",
      "Hawa ke naram jhonkon mein teri khushboo bakhri  \n",
      "Tu chali aa, ke meri duniya hai khaali, veeran, teri  \n",
      "\n",
      "Aayi hai har taraf teri hi baatein, dastaanain  \n",
      "Kisi shayar ne chhedi hai tere husn ki geetain  \n",
      "\n",
      "Tujh se mil kar meri har ghari rang bharti hai  \n",
      "Tu jitni khoobsurat hai, itni hi khushgawar bhi hai  \n",
      "\n",
      "---\n",
      "\n",
      "I hope you like it!\n",
      "User quit\n"
     ]
    }
   ],
   "source": [
    "from langgraph.graph import StateGraph,START,END\n",
    "from typing import TypedDict,Literal,Annotated\n",
    "from langchain_openai import ChatOpenAI\n",
    "from langchain.prompts import PromptTemplate\n",
    "from langchain_core.messages import HumanMessage,AIMessage,SystemMessage,BaseMessage\n",
    "from dotenv import load_dotenv\n",
    "from langgraph.checkpoint.memory import MemorySaver\n",
    "checkpointer=MemorySaver()\n",
    "load_dotenv()\n",
    "model=ChatOpenAI(model=\"gpt-4o-mini\")\n",
    "# from langgraph.graph.message import add_messages\n",
    "\n",
    "# class Chat_bot(TypedDict):\n",
    "#     messages=Annotated[list[BaseMessage],add_messsages]\n",
    "from langgraph.graph.message import add_messages\n",
    "\n",
    "class Chat_bot(TypedDict):\n",
    "\n",
    "    messages: Annotated[list[BaseMessage], add_messages]\n",
    "graph=StateGraph(Chat_bot)\n",
    "def chatbot(state:Chat_bot)->Chat_bot:\n",
    "\n",
    "    messages = state['messages']\n",
    "\n",
    "    response=model.invoke(messages).content\n",
    "    return {\"messages\":[response]}\n",
    "graph.add_node(\"chatbot\",chatbot)\n",
    "graph.add_edge(START,\"chatbot\")\n",
    "graph.add_edge(\"chatbot\",END)\n",
    "workflow=graph.compile(checkpointer=checkpointer)\n",
    "# initial_state = {\n",
    "#     'messages': [HumanMessage(content='What is the capital of india')]\n",
    "# }\n",
    "thread_id='1'\n",
    "while True:\n",
    "    user_message=input(\"enter your message : \")\n",
    "    print(\"User\",user_message)\n",
    "\n",
    "    if user_message.strip().lower() in [\"quit\",\"exit\"]:\n",
    "        break\n",
    "    config={\"configurable\":{\"thread_id\":thread_id}}\n",
    "    response = workflow.invoke({\"messages\":[HumanMessage(content=user_message)]},config=config)\n",
    "\n",
    "\n",
    "    print(\"AI message\",response['messages'][-1].content)"
   ]
  },
  {
   "cell_type": "code",
   "execution_count": 3,
   "id": "d2221653",
   "metadata": {},
   "outputs": [
    {
     "data": {
      "text/plain": [
       "StateSnapshot(values={'messages': [HumanMessage(content='hi my name is fraz', additional_kwargs={}, response_metadata={}, id='5dd449cb-d065-4ea6-877e-6a7785ecf03c'), HumanMessage(content='Hi Fraz! How can I assist you today?', additional_kwargs={}, response_metadata={}, id='48d1fc7a-e900-41f4-be36-d6235e4b7231'), HumanMessage(content='can you write a poem on beutiful girl in ahmed faraz style in urdu', additional_kwargs={}, response_metadata={}, id='2ab348ea-415a-4df1-95aa-ef2a5ca3bbcf'), HumanMessage(content='Certainly! Here’s a poem inspired by the style of Ahmed Faraz, focusing on the theme of a beautiful girl:\\n\\n---\\n\\nتُو کیا ہے، ایک خواب کی تعبیر ہو جیسے  \\nچاند کی چمک، ستاروں کی تصویر ہو جیسے  \\n\\nتیری آنکھوں میں مہکتا ہے سبزہ زار  \\nتیرے ہونٹوں پہ چپکے ہیں سرخ پھولوں کے چنار  \\n\\nتیری مسکراہٹ سے بکھرتا ہے عشق کا نور  \\nتُو ایک بہار کی خوشبو، ایک سوغاتِ سرور  \\n\\nہوا کے نرم جھونکوں میں تری خوشبو بکھیری  \\nتُو چلی آ، کہ میری دنیا ہے خالی، ویران، تیری  \\n\\nآئی ہے ہر طرف تیری ہی باتیں، داستانیں  \\nکسی شاعر نے چھیڑی ہے تیرے حسن کی گیتیں  \\n\\nتجھ سے مل کر میری ہر گھڑی رنگ بھرتی ہے  \\nتُو جتنی خوبصورت ہے، اتنی ہی خوشگوار بھی ہے  \\n\\n---\\n\\nامید ہے کہ آپ کو یہ پسند آئے گا!', additional_kwargs={}, response_metadata={}, id='36a75539-bb42-4397-ae12-30082a9c5895'), HumanMessage(content='can you also provide me roman text of poem in english', additional_kwargs={}, response_metadata={}, id='8df2fbdf-2740-4114-ae34-edd072210d67'), HumanMessage(content='Of course! Here’s the poem in Roman Urdu:\\n\\n---\\n\\nTu kya hai, aik khwab ki taabeer ho jaise  \\nChaand ki chamak, sitaron ki tasveer ho jaise  \\n\\nTeri aankhon mein mehakta hai sabza zaar  \\nTere honton par chupke hain surkh phoolon ke chinar  \\n\\nTeri muskurahat se bikharhta hai ishq ka noor  \\nTu aik bahar ki khushboo, aik sogat-e-surur  \\n\\nHawa ke naram jhonkon mein teri khushboo bakhri  \\nTu chali aa, ke meri duniya hai khaali, veeran, teri  \\n\\nAayi hai har taraf teri hi baatein, dastaanain  \\nKisi shayar ne chhedi hai tere husn ki geetain  \\n\\nTujh se mil kar meri har ghari rang bharti hai  \\nTu jitni khoobsurat hai, itni hi khushgawar bhi hai  \\n\\n---\\n\\nI hope you like it!', additional_kwargs={}, response_metadata={}, id='a7f958e4-aa1b-473b-9b27-44236bce4705')]}, next=(), config={'configurable': {'thread_id': '1', 'checkpoint_ns': '', 'checkpoint_id': '1f09924a-1db2-6936-8007-d7dbcecb7430'}}, metadata={'source': 'loop', 'step': 7, 'parents': {}}, created_at='2025-09-24T08:58:26.185225+00:00', parent_config={'configurable': {'thread_id': '1', 'checkpoint_ns': '', 'checkpoint_id': '1f09924a-08de-6474-8006-b7b357bc34db'}}, tasks=(), interrupts=())"
      ]
     },
     "execution_count": 3,
     "metadata": {},
     "output_type": "execute_result"
    }
   ],
   "source": [
    "workflow.get_state(config=config)"
   ]
  },
  {
   "cell_type": "code",
   "execution_count": null,
   "id": "69803441",
   "metadata": {},
   "outputs": [],
   "source": []
  }
 ],
 "metadata": {
  "kernelspec": {
   "display_name": "myenv",
   "language": "python",
   "name": "python3"
  },
  "language_info": {
   "codemirror_mode": {
    "name": "ipython",
    "version": 3
   },
   "file_extension": ".py",
   "mimetype": "text/x-python",
   "name": "python",
   "nbconvert_exporter": "python",
   "pygments_lexer": "ipython3",
   "version": "3.12.11"
  }
 },
 "nbformat": 4,
 "nbformat_minor": 5
}
