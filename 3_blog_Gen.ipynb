{
 "cells": [
  {
   "cell_type": "code",
   "execution_count": 1,
   "id": "a716b853",
   "metadata": {},
   "outputs": [
    {
     "data": {
      "text/plain": [
       "True"
      ]
     },
     "execution_count": 1,
     "metadata": {},
     "output_type": "execute_result"
    }
   ],
   "source": [
    "from langgraph.graph import StateGraph,START,END\n",
    "from typing import TypedDict\n",
    "from langchain_openai import ChatOpenAI\n",
    "from langchain_core.prompts import PromptTemplate\n",
    "from dotenv import load_dotenv\n",
    "load_dotenv()"
   ]
  },
  {
   "cell_type": "code",
   "execution_count": 2,
   "id": "98acbd8a",
   "metadata": {},
   "outputs": [],
   "source": [
    "class BlogPost(TypedDict):\n",
    "    tittle: str\n",
    "    outline: str\n",
    "    blog: str"
   ]
  },
  {
   "cell_type": "code",
   "execution_count": 3,
   "id": "5dad93eb",
   "metadata": {},
   "outputs": [],
   "source": [
    "model=ChatOpenAI(model=\"gpt-4o-mini\")"
   ]
  },
  {
   "cell_type": "code",
   "execution_count": 19,
   "id": "013091bf",
   "metadata": {},
   "outputs": [],
   "source": [
    "def outline(state:BlogPost)->BlogPost:\n",
    "    tittle=state[\"tittle\"]\n",
    "    prompt1=f\"i am giving you a tittle of a blog post {tittle}. Generate an outline for the blog post\"\n",
    "    outline=model.invoke(prompt1).content\n",
    "    state['outline']=outline\n",
    "    return state"
   ]
  },
  {
   "cell_type": "code",
   "execution_count": 33,
   "id": "aa4439fb",
   "metadata": {},
   "outputs": [],
   "source": [
    "def blog(state:BlogPost)->BlogPost:\n",
    "    tittle=state[\"tittle\"]\n",
    "    outline=state[\"outline\"]\n",
    "    prompt2=f\"i am giving you a tittle of a blog post {tittle} and outline {outline}. Generate content for the blog post using ouline {outline} .\"\n",
    "    blog=model.invoke(prompt2).content\n",
    "    state['blog']=blog\n",
    "    return state"
   ]
  },
  {
   "cell_type": "code",
   "execution_count": 34,
   "id": "de4d6917",
   "metadata": {},
   "outputs": [
    {
     "data": {
      "text/plain": [
       "<langgraph.graph.state.StateGraph at 0x2676a10add0>"
      ]
     },
     "execution_count": 34,
     "metadata": {},
     "output_type": "execute_result"
    }
   ],
   "source": [
    "graph=StateGraph(BlogPost)\n",
    "#add node\n",
    "\n",
    "graph.add_node(\"outline\",outline)\n",
    "graph.add_node(\"blog\",blog)\n",
    "#add edge\n",
    "graph.add_edge(START,\"outline\")\n",
    "graph.add_edge(\"outline\",\"blog\")\n",
    "graph.add_edge(\"blog\",END)"
   ]
  },
  {
   "cell_type": "code",
   "execution_count": 35,
   "id": "251afbe8",
   "metadata": {},
   "outputs": [],
   "source": [
    "workflow=graph.compile()\n"
   ]
  },
  {
   "cell_type": "code",
   "execution_count": 36,
   "id": "86471b8e",
   "metadata": {},
   "outputs": [],
   "source": [
    "# from IPython.display import Image\n",
    "# Image(workflow.get_graph().draw_mermaid_png())"
   ]
  },
  {
   "cell_type": "code",
   "execution_count": 37,
   "id": "50129ce6",
   "metadata": {},
   "outputs": [
    {
     "name": "stdout",
     "output_type": "stream",
     "text": [
      "{'tittle': 'Poverty in India', 'outline': '**Outline for Blog Post: Poverty in India**\\n\\n---\\n\\n### Introduction\\n- Brief overview of poverty as a global issue\\n- Introduction to the specific context of poverty in India\\n- Importance of discussing poverty in the Indian framework\\n\\n### 1. Understanding Poverty\\n- Definition of poverty\\n  - Absolute vs. relative poverty\\n- Key indicators of poverty (income levels, access to basic amenities, healthcare, education)\\n\\n### 2. Statistics and Demographics\\n- Current statistics on poverty in India\\n  - Percentage of population living below the poverty line\\n  - Regional variations (rural vs. urban poverty)\\n- Demographic factors affecting poverty (age, gender, caste)\\n\\n### 3. Historical Context\\n- Brief history of poverty in India since independence\\n- Impact of colonialism and economic policies\\n- Changes in poverty levels through various economic reforms (1991 liberalization, etc.)\\n\\n### 4. Causes of Poverty in India\\n- Structural issues  \\n  - Economic inequality\\n  - Lack of employment opportunities\\n- Social factors  \\n  - Caste system and discrimination\\n  - Gender inequality\\n- Political factors  \\n  - Corruption and governance issues\\n  - Ineffective policy implementation\\n\\n### 5. Impact of Poverty\\n- Effects on health \\n  - Malnutrition and lack of access to healthcare\\n- Effects on education  \\n  - Dropout rates and quality of education\\n- Societal effects  \\n  - Crime rates, social unrest, and migration patterns\\n\\n### 6. Government Initiatives and Policies\\n- Overview of poverty alleviation programs (Mahatma Gandhi National Rural Employment Guarantee Act, National Food Security Act)\\n- Evaluating the effectiveness of these programs\\n- Role of government and NGOs in poverty reduction\\n\\n### 7. Case Studies\\n- Success stories from specific states or regions\\n- Comparative analysis of effective interventions (e.g., microfinance, skill development programs)\\n\\n### 8. Global Perspectives\\n- Comparison of poverty in India with other developing countries\\n- International aid and its effectiveness\\n- Role of international organizations (World Bank, UN) in addressing poverty in India\\n\\n### 9. Future Outlook and Solutions\\n- Challenges ahead in eradicating poverty\\n- Innovative solutions and strategies  \\n  - Role of technology and entrepreneurship\\n  - Grassroots movements and community-led initiatives\\n\\n### Conclusion\\n- Summary of key points discussed\\n- Call to action for awareness and involvement in poverty alleviation efforts\\n- Final thoughts on the path towards a poverty-free India\\n\\n---\\n\\n### References\\n- Citing relevant studies, reports, and data sources used in the blog post\\n\\n### About the Author\\n- Brief biography and credentials related to the topic\\n\\n---\\n\\nThis outline serves as a comprehensive guide for writing a detailed blog post on the issue of poverty in India, ensuring that key aspects are thoroughly covered.', 'blog': \"## Poverty in India: An In-Depth Analysis\\n\\n### Introduction\\nPoverty is one of the most pressing global issues of our time, affecting millions of people and impacting economic, social, and political dynamics across the world. In India, a country marked by its rich heritage and rapid economic growth, poverty remains a stark reality for a significant portion of the population. Understanding poverty in the Indian context is essential, as it reveals the nuances of economic disparity and social injustice that continue to challenge the nation's progress. This blog post aims to dissect the underlying factors of poverty in India, its implications for society, and the initiatives undertaken to combat this persistent issue.\\n\\n### 1. Understanding Poverty\\nPoverty can be broadly defined as the state of having insufficient financial resources to meet basic living standards, such as food, clothing, and shelter. It is typically categorized into two types: absolute poverty, measured by a lack of resources to meet essential needs, and relative poverty, which is defined in relation to the economic status of other individuals within a society. Key indicators of poverty in India include income levels, access to basic amenities like clean water and sanitation, healthcare availability, and quality of education.\\n\\n### 2. Statistics and Demographics\\nAs of the latest estimates, around 22% of India’s population lives below the poverty line, which consists of nearly 300 million individuals. This statistic, however, masks significant regional variations; rural populations suffer disproportionately, with poverty rates much higher than in urban areas. Various demographic factors also interplay with poverty, with children, women, and marginalized communities facing the brunt of economic hardship due to age, gender, and caste discrimination.\\n\\n### 3. Historical Context\\nSince gaining independence in 1947, India has grappled with the challenge of poverty. The legacy of colonial exploitation left a profound impact on the country's economic structures. Following independence, several economic policies aimed at self-sufficiency and industrialization were implemented. However, the liberalization reforms of 1991 marked a turning point, leading to economic growth but also widening the gap between rich and poor, resulting in a mixed outcome on poverty levels.\\n\\n### 4. Causes of Poverty in India\\nThe causes of poverty in India are multi-faceted.  \\n- **Structural Issues:** Economic inequality is rife, marked by a concentration of wealth in the hands of a few. Furthermore, a lack of quality job opportunities, especially in rural areas, perpetuates cycles of poverty.\\n- **Social Factors:** The caste system and persistent discrimination severely limit opportunities for lower castes and marginalized groups. Gender inequality also plays a significant role, particularly in a country where women often have limited access to education and employment.\\n- **Political Factors:** Corruption and flawed governance can hamper effective policy implementation, leading to inefficiencies in poverty alleviation programs.\\n\\n### 5. Impact of Poverty\\nThe effects of poverty are far-reaching.  \\n- **Health:** Poor nutrition and lack of access to healthcare services result in high rates of malnutrition and associated health issues, with children being especially vulnerable.\\n- **Education:** The link between poverty and education is stark, with many children dropping out of school due to economic constraints, leading to a cycle of poverty perpetuated through generations.\\n- **Societal Effects:** Poverty contributes to increased crime rates and social unrest, as individuals struggle to meet their basic needs, sometimes resorting to unlawful means to survive.\\n\\n### 6. Government Initiatives and Policies\\nThe Indian government has launched various poverty alleviation programs to combat this issue, including the Mahatma Gandhi National Rural Employment Guarantee Act (MGNREGA) and the National Food Security Act. These initiatives aim to provide employment and ensure food security, respectively. However, challenges in implementation and corruption have hindered their effectiveness, necessitating a greater role for NGOs and civil society in driving grassroots change.\\n\\n### 7. Case Studies\\nSuccessful interventions in specific states offer hope and model frameworks for poverty reduction. For example, Kerala’s impressive healthcare and education systems have resulted in lower poverty rates. Additionally, programs focusing on microfinance and skill development have shown success in empowering rural women and youth, creating sustainable employment pathways.\\n\\n### 8. Global Perspectives\\nWhen comparing poverty in India to other developing countries, India stands out due to its vast population yet experiences similar challenges faced by nations such as Nigeria and Bangladesh. International aid plays a vital role, with organizations such as the World Bank and the UN providing support for various poverty alleviation projects, though the effectiveness of such aid can be influenced by local governance issues.\\n\\n### 9. Future Outlook and Solutions\\nWhile the journey toward eradicating poverty is fraught with challenges, innovative solutions continue to emerge. Technology, particularly in the realms of financial inclusion and education, can offer significant improvements. Additionally, grassroots movements are gaining momentum, empowering communities to take ownership and lead efforts in reducing poverty.\\n\\n### Conclusion\\nPoverty in India remains a complex issue requiring a multifaceted approach. By understanding its causes and impacts, acknowledging the efforts and challenges of government initiatives, and learning from successful case studies, we can forge a collective path toward a poverty-free India. It is crucial for each of us to engage in awareness and advocacy, contributing to efforts that uplift the marginalized and bridge the economic divide.\\n\\n---\\n\\n### References\\nCitations of relevant studies, statistics, and data sources will be appended here to lend credibility and authenticity to the blog's assertions.\\n\\n### About the Author\\n[Author's Name] is a socio-economic researcher focusing on poverty alleviation and sustainable development in India. With a background in development studies and experience working on various grassroots projects, [he/she/they] aims to shed light on critical issues that shape India's socio-economic landscape.\\n\\n---\\n\\nThis blog post provides a comprehensive overview of poverty in India, ensuring that vital aspects are adequately explored while fostering a deeper understanding of the issue and potential solutions.\"}\n"
     ]
    }
   ],
   "source": [
    "initial_state={\"tittle\":\"Poverty in India\"}\n",
    "final_state=workflow.invoke(initial_state)\n",
    "print(final_state)\n"
   ]
  },
  {
   "cell_type": "code",
   "execution_count": 38,
   "id": "212afe0f",
   "metadata": {},
   "outputs": [
    {
     "name": "stdout",
     "output_type": "stream",
     "text": [
      "**Outline for Blog Post: Poverty in India**\n",
      "\n",
      "---\n",
      "\n",
      "### Introduction\n",
      "- Brief overview of poverty as a global issue\n",
      "- Introduction to the specific context of poverty in India\n",
      "- Importance of discussing poverty in the Indian framework\n",
      "\n",
      "### 1. Understanding Poverty\n",
      "- Definition of poverty\n",
      "  - Absolute vs. relative poverty\n",
      "- Key indicators of poverty (income levels, access to basic amenities, healthcare, education)\n",
      "\n",
      "### 2. Statistics and Demographics\n",
      "- Current statistics on poverty in India\n",
      "  - Percentage of population living below the poverty line\n",
      "  - Regional variations (rural vs. urban poverty)\n",
      "- Demographic factors affecting poverty (age, gender, caste)\n",
      "\n",
      "### 3. Historical Context\n",
      "- Brief history of poverty in India since independence\n",
      "- Impact of colonialism and economic policies\n",
      "- Changes in poverty levels through various economic reforms (1991 liberalization, etc.)\n",
      "\n",
      "### 4. Causes of Poverty in India\n",
      "- Structural issues  \n",
      "  - Economic inequality\n",
      "  - Lack of employment opportunities\n",
      "- Social factors  \n",
      "  - Caste system and discrimination\n",
      "  - Gender inequality\n",
      "- Political factors  \n",
      "  - Corruption and governance issues\n",
      "  - Ineffective policy implementation\n",
      "\n",
      "### 5. Impact of Poverty\n",
      "- Effects on health \n",
      "  - Malnutrition and lack of access to healthcare\n",
      "- Effects on education  \n",
      "  - Dropout rates and quality of education\n",
      "- Societal effects  \n",
      "  - Crime rates, social unrest, and migration patterns\n",
      "\n",
      "### 6. Government Initiatives and Policies\n",
      "- Overview of poverty alleviation programs (Mahatma Gandhi National Rural Employment Guarantee Act, National Food Security Act)\n",
      "- Evaluating the effectiveness of these programs\n",
      "- Role of government and NGOs in poverty reduction\n",
      "\n",
      "### 7. Case Studies\n",
      "- Success stories from specific states or regions\n",
      "- Comparative analysis of effective interventions (e.g., microfinance, skill development programs)\n",
      "\n",
      "### 8. Global Perspectives\n",
      "- Comparison of poverty in India with other developing countries\n",
      "- International aid and its effectiveness\n",
      "- Role of international organizations (World Bank, UN) in addressing poverty in India\n",
      "\n",
      "### 9. Future Outlook and Solutions\n",
      "- Challenges ahead in eradicating poverty\n",
      "- Innovative solutions and strategies  \n",
      "  - Role of technology and entrepreneurship\n",
      "  - Grassroots movements and community-led initiatives\n",
      "\n",
      "### Conclusion\n",
      "- Summary of key points discussed\n",
      "- Call to action for awareness and involvement in poverty alleviation efforts\n",
      "- Final thoughts on the path towards a poverty-free India\n",
      "\n",
      "---\n",
      "\n",
      "### References\n",
      "- Citing relevant studies, reports, and data sources used in the blog post\n",
      "\n",
      "### About the Author\n",
      "- Brief biography and credentials related to the topic\n",
      "\n",
      "---\n",
      "\n",
      "This outline serves as a comprehensive guide for writing a detailed blog post on the issue of poverty in India, ensuring that key aspects are thoroughly covered.\n"
     ]
    }
   ],
   "source": [
    "print(final_state['outline'])"
   ]
  },
  {
   "cell_type": "code",
   "execution_count": 39,
   "id": "a9fe0951",
   "metadata": {},
   "outputs": [
    {
     "name": "stdout",
     "output_type": "stream",
     "text": [
      "## Poverty in India: An In-Depth Analysis\n",
      "\n",
      "### Introduction\n",
      "Poverty is one of the most pressing global issues of our time, affecting millions of people and impacting economic, social, and political dynamics across the world. In India, a country marked by its rich heritage and rapid economic growth, poverty remains a stark reality for a significant portion of the population. Understanding poverty in the Indian context is essential, as it reveals the nuances of economic disparity and social injustice that continue to challenge the nation's progress. This blog post aims to dissect the underlying factors of poverty in India, its implications for society, and the initiatives undertaken to combat this persistent issue.\n",
      "\n",
      "### 1. Understanding Poverty\n",
      "Poverty can be broadly defined as the state of having insufficient financial resources to meet basic living standards, such as food, clothing, and shelter. It is typically categorized into two types: absolute poverty, measured by a lack of resources to meet essential needs, and relative poverty, which is defined in relation to the economic status of other individuals within a society. Key indicators of poverty in India include income levels, access to basic amenities like clean water and sanitation, healthcare availability, and quality of education.\n",
      "\n",
      "### 2. Statistics and Demographics\n",
      "As of the latest estimates, around 22% of India’s population lives below the poverty line, which consists of nearly 300 million individuals. This statistic, however, masks significant regional variations; rural populations suffer disproportionately, with poverty rates much higher than in urban areas. Various demographic factors also interplay with poverty, with children, women, and marginalized communities facing the brunt of economic hardship due to age, gender, and caste discrimination.\n",
      "\n",
      "### 3. Historical Context\n",
      "Since gaining independence in 1947, India has grappled with the challenge of poverty. The legacy of colonial exploitation left a profound impact on the country's economic structures. Following independence, several economic policies aimed at self-sufficiency and industrialization were implemented. However, the liberalization reforms of 1991 marked a turning point, leading to economic growth but also widening the gap between rich and poor, resulting in a mixed outcome on poverty levels.\n",
      "\n",
      "### 4. Causes of Poverty in India\n",
      "The causes of poverty in India are multi-faceted.  \n",
      "- **Structural Issues:** Economic inequality is rife, marked by a concentration of wealth in the hands of a few. Furthermore, a lack of quality job opportunities, especially in rural areas, perpetuates cycles of poverty.\n",
      "- **Social Factors:** The caste system and persistent discrimination severely limit opportunities for lower castes and marginalized groups. Gender inequality also plays a significant role, particularly in a country where women often have limited access to education and employment.\n",
      "- **Political Factors:** Corruption and flawed governance can hamper effective policy implementation, leading to inefficiencies in poverty alleviation programs.\n",
      "\n",
      "### 5. Impact of Poverty\n",
      "The effects of poverty are far-reaching.  \n",
      "- **Health:** Poor nutrition and lack of access to healthcare services result in high rates of malnutrition and associated health issues, with children being especially vulnerable.\n",
      "- **Education:** The link between poverty and education is stark, with many children dropping out of school due to economic constraints, leading to a cycle of poverty perpetuated through generations.\n",
      "- **Societal Effects:** Poverty contributes to increased crime rates and social unrest, as individuals struggle to meet their basic needs, sometimes resorting to unlawful means to survive.\n",
      "\n",
      "### 6. Government Initiatives and Policies\n",
      "The Indian government has launched various poverty alleviation programs to combat this issue, including the Mahatma Gandhi National Rural Employment Guarantee Act (MGNREGA) and the National Food Security Act. These initiatives aim to provide employment and ensure food security, respectively. However, challenges in implementation and corruption have hindered their effectiveness, necessitating a greater role for NGOs and civil society in driving grassroots change.\n",
      "\n",
      "### 7. Case Studies\n",
      "Successful interventions in specific states offer hope and model frameworks for poverty reduction. For example, Kerala’s impressive healthcare and education systems have resulted in lower poverty rates. Additionally, programs focusing on microfinance and skill development have shown success in empowering rural women and youth, creating sustainable employment pathways.\n",
      "\n",
      "### 8. Global Perspectives\n",
      "When comparing poverty in India to other developing countries, India stands out due to its vast population yet experiences similar challenges faced by nations such as Nigeria and Bangladesh. International aid plays a vital role, with organizations such as the World Bank and the UN providing support for various poverty alleviation projects, though the effectiveness of such aid can be influenced by local governance issues.\n",
      "\n",
      "### 9. Future Outlook and Solutions\n",
      "While the journey toward eradicating poverty is fraught with challenges, innovative solutions continue to emerge. Technology, particularly in the realms of financial inclusion and education, can offer significant improvements. Additionally, grassroots movements are gaining momentum, empowering communities to take ownership and lead efforts in reducing poverty.\n",
      "\n",
      "### Conclusion\n",
      "Poverty in India remains a complex issue requiring a multifaceted approach. By understanding its causes and impacts, acknowledging the efforts and challenges of government initiatives, and learning from successful case studies, we can forge a collective path toward a poverty-free India. It is crucial for each of us to engage in awareness and advocacy, contributing to efforts that uplift the marginalized and bridge the economic divide.\n",
      "\n",
      "---\n",
      "\n",
      "### References\n",
      "Citations of relevant studies, statistics, and data sources will be appended here to lend credibility and authenticity to the blog's assertions.\n",
      "\n",
      "### About the Author\n",
      "[Author's Name] is a socio-economic researcher focusing on poverty alleviation and sustainable development in India. With a background in development studies and experience working on various grassroots projects, [he/she/they] aims to shed light on critical issues that shape India's socio-economic landscape.\n",
      "\n",
      "---\n",
      "\n",
      "This blog post provides a comprehensive overview of poverty in India, ensuring that vital aspects are adequately explored while fostering a deeper understanding of the issue and potential solutions.\n"
     ]
    }
   ],
   "source": [
    "print(final_state['blog'])"
   ]
  },
  {
   "cell_type": "code",
   "execution_count": null,
   "id": "7a5e7a14",
   "metadata": {},
   "outputs": [],
   "source": []
  }
 ],
 "metadata": {
  "kernelspec": {
   "display_name": "myenv",
   "language": "python",
   "name": "python3"
  },
  "language_info": {
   "codemirror_mode": {
    "name": "ipython",
    "version": 3
   },
   "file_extension": ".py",
   "mimetype": "text/x-python",
   "name": "python",
   "nbconvert_exporter": "python",
   "pygments_lexer": "ipython3",
   "version": "3.11.9"
  }
 },
 "nbformat": 4,
 "nbformat_minor": 5
}
