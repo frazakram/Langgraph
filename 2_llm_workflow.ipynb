{
 "cells": [
  {
   "cell_type": "code",
   "execution_count": null,
   "id": "9178f500",
   "metadata": {},
   "outputs": [],
   "source": [
    "from langgraph.graph import StateGraph,START,END\n",
    "from typing import TypedDict\n",
    "from dotenv import load_dotenv\n",
    "from langchain_openai import ChatOpenAI \n",
    "from langchain_core.prompts import PromptTemplate\n",
    "load_dotenv()"
   ]
  },
  {
   "cell_type": "code",
   "execution_count": null,
   "id": "b8ecb3d9",
   "metadata": {},
   "outputs": [],
   "source": [
    "class qastate(TypedDict):\n",
    "    question:str\n",
    "    answer:str"
   ]
  },
  {
   "cell_type": "code",
   "execution_count": null,
   "id": "33ae8e8b",
   "metadata": {},
   "outputs": [],
   "source": [
    "model=ChatOpenAI()"
   ]
  },
  {
   "cell_type": "code",
   "execution_count": null,
   "id": "8c642559",
   "metadata": {},
   "outputs": [],
   "source": [
    "def llm_qa(state:qastate)->qastate:\n",
    "    question=state['question']\n",
    "    prompt=f\"give conicise and preciise answer to given question {question}\"\n",
    "    answer=model.invoke(prompt).content\n",
    "    state['answer']=answer\n",
    "    return state\n",
    "    "
   ]
  },
  {
   "cell_type": "code",
   "execution_count": null,
   "id": "86e29c9b",
   "metadata": {},
   "outputs": [],
   "source": [
    "graph=StateGraph(qastate)\n",
    "#add node\n",
    "graph.add_node(\"llm_qa\",llm_qa)\n",
    "#add edge\n",
    "graph.add_edge(START,'llm_qa')\n",
    "graph.add_edge('llm_qa',END)"
   ]
  },
  {
   "cell_type": "code",
   "execution_count": null,
   "id": "dc0c6d67",
   "metadata": {},
   "outputs": [],
   "source": [
    "workflow=graph.compile()"
   ]
  },
  {
   "cell_type": "code",
   "execution_count": null,
   "id": "6c198ee1",
   "metadata": {},
   "outputs": [],
   "source": [
    "from IPython.display import Image\n",
    "Image(workflow.get_graph().draw_mermaid_png())"
   ]
  },
  {
   "cell_type": "code",
   "execution_count": null,
   "id": "57860d9a",
   "metadata": {},
   "outputs": [],
   "source": [
    "initial_State={\"question\":input(\"ask your question\")}\n",
    "final_State=workflow.invoke(initial_State)\n",
    "print(final_State)"
   ]
  },
  {
   "cell_type": "code",
   "execution_count": null,
   "id": "6545cf65",
   "metadata": {},
   "outputs": [],
   "source": []
  }
 ],
 "metadata": {
  "kernelspec": {
   "display_name": "myenv",
   "language": "python",
   "name": "python3"
  },
  "language_info": {
   "codemirror_mode": {
    "name": "ipython",
    "version": 3
   },
   "file_extension": ".py",
   "mimetype": "text/x-python",
   "name": "python",
   "nbconvert_exporter": "python",
   "pygments_lexer": "ipython3",
   "version": "3.11.9"
  }
 },
 "nbformat": 4,
 "nbformat_minor": 5
}
