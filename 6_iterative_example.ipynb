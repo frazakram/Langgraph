{
 "cells": [
  {
   "cell_type": "markdown",
   "id": "c987dd1f",
   "metadata": {},
   "source": [
    "# media evaluator\n",
    "## iterative workflow\n",
    "### real life example for itterative work flow basically its a workflow in which we run loop on nodes to get result "
   ]
  },
  {
   "cell_type": "code",
   "execution_count": null,
   "id": "dc7f6083",
   "metadata": {},
   "outputs": [],
   "source": []
  }
 ],
 "metadata": {
  "language_info": {
   "name": "python"
  }
 },
 "nbformat": 4,
 "nbformat_minor": 5
}
